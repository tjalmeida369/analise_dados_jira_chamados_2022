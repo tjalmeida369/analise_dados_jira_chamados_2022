{
 "cells": [
  {
   "cell_type": "markdown",
   "id": "3b8772b2",
   "metadata": {},
   "source": [
    "Bibliotecas a serem usadas."
   ]
  },
  {
   "cell_type": "code",
   "execution_count": 3,
   "id": "7814779d",
   "metadata": {},
   "outputs": [],
   "source": [
    "import pandas as pd\n",
    "import numpy as np\n",
    "import seaborn as sns\n",
    "import matplotlib.pyplot as plt\n",
    "import time"
   ]
  },
  {
   "cell_type": "markdown",
   "id": "9ad2d412",
   "metadata": {},
   "source": [
    "Conjunto de dados extraídos do Jira.\n",
    " - Essa analise foi feita para identificar a quantidade de solicitações abertas no primeiro semestre de 2022 e criar planos de melhoria."
   ]
  },
  {
   "cell_type": "code",
   "execution_count": 4,
   "id": "1875b314",
   "metadata": {},
   "outputs": [
    {
     "data": {
      "text/html": [
       "<div>\n",
       "<style scoped>\n",
       "    .dataframe tbody tr th:only-of-type {\n",
       "        vertical-align: middle;\n",
       "    }\n",
       "\n",
       "    .dataframe tbody tr th {\n",
       "        vertical-align: top;\n",
       "    }\n",
       "\n",
       "    .dataframe thead th {\n",
       "        text-align: right;\n",
       "    }\n",
       "</style>\n",
       "<table border=\"1\" class=\"dataframe\">\n",
       "  <thead>\n",
       "    <tr style=\"text-align: right;\">\n",
       "      <th></th>\n",
       "      <th>Chave</th>\n",
       "      <th>Resumo</th>\n",
       "      <th>Responsável</th>\n",
       "      <th>Relator</th>\n",
       "      <th>Status</th>\n",
       "      <th>Criado</th>\n",
       "      <th>Resolvido</th>\n",
       "      <th>Tipo de chamado</th>\n",
       "      <th>Mês Criação</th>\n",
       "      <th>Macro Chamado</th>\n",
       "    </tr>\n",
       "  </thead>\n",
       "  <tbody>\n",
       "    <tr>\n",
       "      <th>0</th>\n",
       "      <td>CDC-8798</td>\n",
       "      <td>Notebook não conecta na internet</td>\n",
       "      <td>THIAGO JUNIO DE ALMEIDA</td>\n",
       "      <td>GIZELLE LIMA DIAS PRECIOSO</td>\n",
       "      <td>Em Atendimento</td>\n",
       "      <td>6/7/2022 12:42:31</td>\n",
       "      <td>NaN</td>\n",
       "      <td>Hardware - Ponto de Rede</td>\n",
       "      <td>06/2022</td>\n",
       "      <td>Sistema</td>\n",
       "    </tr>\n",
       "    <tr>\n",
       "      <th>1</th>\n",
       "      <td>CDC-8796</td>\n",
       "      <td>Destravar fluxo</td>\n",
       "      <td>THIAGO JUNIO DE ALMEIDA</td>\n",
       "      <td>FERNANDA HERCULANO DOS SANTOS</td>\n",
       "      <td>Finalizado</td>\n",
       "      <td>6/6/2022 21:15:59</td>\n",
       "      <td>6/7/2022 12:14:26</td>\n",
       "      <td>Sistema Interno - Falha na Webservice de Cance...</td>\n",
       "      <td>06/2022</td>\n",
       "      <td>Software</td>\n",
       "    </tr>\n",
       "    <tr>\n",
       "      <th>2</th>\n",
       "      <td>CDC-8795</td>\n",
       "      <td>Alterar Desk para Note - ANA PAULA SOARES OTON...</td>\n",
       "      <td>THIAGO JUNIO DE ALMEIDA</td>\n",
       "      <td>VANIA LIYE DE OLIVEIRA COSTA</td>\n",
       "      <td>Em Atendimento</td>\n",
       "      <td>6/6/2022 18:20:08</td>\n",
       "      <td>NaN</td>\n",
       "      <td>Hardware - Monitor</td>\n",
       "      <td>06/2022</td>\n",
       "      <td>Sistema</td>\n",
       "    </tr>\n",
       "    <tr>\n",
       "      <th>3</th>\n",
       "      <td>CDC-8794</td>\n",
       "      <td>Pedido Guldi de 2020</td>\n",
       "      <td>THIAGO JUNIO DE ALMEIDA</td>\n",
       "      <td>MIRIAN DE ANDRADE SILVA</td>\n",
       "      <td>Finalizado</td>\n",
       "      <td>6/6/2022 18:10:21</td>\n",
       "      <td>6/7/2022 12:23:10</td>\n",
       "      <td>Sistema Interno - Pedido não Integrado</td>\n",
       "      <td>06/2022</td>\n",
       "      <td>Software</td>\n",
       "    </tr>\n",
       "    <tr>\n",
       "      <th>4</th>\n",
       "      <td>CDC-8791</td>\n",
       "      <td>Destravar fluxo</td>\n",
       "      <td>THIAGO JUNIO DE ALMEIDA</td>\n",
       "      <td>FERNANDA HERCULANO DOS SANTOS</td>\n",
       "      <td>Finalizado</td>\n",
       "      <td>6/6/2022 14:46:53</td>\n",
       "      <td>6/6/2022 15:47:45</td>\n",
       "      <td>Sistema Interno - Problemas no Envio de Email/...</td>\n",
       "      <td>06/2022</td>\n",
       "      <td>Sistema</td>\n",
       "    </tr>\n",
       "    <tr>\n",
       "      <th>5</th>\n",
       "      <td>CDC-8790</td>\n",
       "      <td>Verificar cupom de desconto RA</td>\n",
       "      <td>THIAGO JUNIO DE ALMEIDA</td>\n",
       "      <td>BARBARA BYANCA ROSA LEMOS</td>\n",
       "      <td>Rejeitado</td>\n",
       "      <td>6/6/2022 13:41:01</td>\n",
       "      <td>NaN</td>\n",
       "      <td>Sistema Interno - Divergência Entre Sistemas</td>\n",
       "      <td>06/2022</td>\n",
       "      <td>Software</td>\n",
       "    </tr>\n",
       "    <tr>\n",
       "      <th>6</th>\n",
       "      <td>CDC-8789</td>\n",
       "      <td>Erro ao adicionar item no carrinho - Guarda ro...</td>\n",
       "      <td>THIAGO JUNIO DE ALMEIDA</td>\n",
       "      <td>GISELE CUSTODIO DE CARVALHO</td>\n",
       "      <td>Finalizado</td>\n",
       "      <td>6/6/2022 12:56:23</td>\n",
       "      <td>6/6/2022 13:52:59</td>\n",
       "      <td>Site - Carrinho Vazio</td>\n",
       "      <td>06/2022</td>\n",
       "      <td>Sistema</td>\n",
       "    </tr>\n",
       "    <tr>\n",
       "      <th>7</th>\n",
       "      <td>CDC-8788</td>\n",
       "      <td>Erro no produto Bundle</td>\n",
       "      <td>THIAGO JUNIO DE ALMEIDA</td>\n",
       "      <td>BARBARA BYANCA ROSA LEMOS</td>\n",
       "      <td>Finalizado</td>\n",
       "      <td>6/6/2022 12:53:51</td>\n",
       "      <td>6/6/2022 15:30:03</td>\n",
       "      <td>Sistema Interno - Divergência Entre Sistemas</td>\n",
       "      <td>06/2022</td>\n",
       "      <td>Software</td>\n",
       "    </tr>\n",
       "    <tr>\n",
       "      <th>8</th>\n",
       "      <td>CDC-8787</td>\n",
       "      <td>Erro ao adicionar item no carrinho - Rack para...</td>\n",
       "      <td>THIAGO JUNIO DE ALMEIDA</td>\n",
       "      <td>GISELE CUSTODIO DE CARVALHO</td>\n",
       "      <td>Finalizado</td>\n",
       "      <td>6/6/2022 12:31:59</td>\n",
       "      <td>6/6/2022 13:18:00</td>\n",
       "      <td>Site - Erro Genérico</td>\n",
       "      <td>06/2022</td>\n",
       "      <td>Software</td>\n",
       "    </tr>\n",
       "    <tr>\n",
       "      <th>9</th>\n",
       "      <td>CDC-8783</td>\n",
       "      <td>Task travada</td>\n",
       "      <td>THIAGO JUNIO DE ALMEIDA</td>\n",
       "      <td>FELIPE JOSE SPINUCCI</td>\n",
       "      <td>Encerrado</td>\n",
       "      <td>6/4/2022 11:04:54</td>\n",
       "      <td>6/4/2022 16:53:50</td>\n",
       "      <td>Sistema interno - Falha de Webservice Aprovar ...</td>\n",
       "      <td>06/2022</td>\n",
       "      <td>Sistema</td>\n",
       "    </tr>\n",
       "  </tbody>\n",
       "</table>\n",
       "</div>"
      ],
      "text/plain": [
       "      Chave                                             Resumo  \\\n",
       "0  CDC-8798                   Notebook não conecta na internet   \n",
       "1  CDC-8796                                    Destravar fluxo   \n",
       "2  CDC-8795  Alterar Desk para Note - ANA PAULA SOARES OTON...   \n",
       "3  CDC-8794                               Pedido Guldi de 2020   \n",
       "4  CDC-8791                                    Destravar fluxo   \n",
       "5  CDC-8790                     Verificar cupom de desconto RA   \n",
       "6  CDC-8789  Erro ao adicionar item no carrinho - Guarda ro...   \n",
       "7  CDC-8788                             Erro no produto Bundle   \n",
       "8  CDC-8787  Erro ao adicionar item no carrinho - Rack para...   \n",
       "9  CDC-8783                                       Task travada   \n",
       "\n",
       "               Responsável                        Relator          Status  \\\n",
       "0  THIAGO JUNIO DE ALMEIDA     GIZELLE LIMA DIAS PRECIOSO  Em Atendimento   \n",
       "1  THIAGO JUNIO DE ALMEIDA  FERNANDA HERCULANO DOS SANTOS      Finalizado   \n",
       "2  THIAGO JUNIO DE ALMEIDA   VANIA LIYE DE OLIVEIRA COSTA  Em Atendimento   \n",
       "3  THIAGO JUNIO DE ALMEIDA        MIRIAN DE ANDRADE SILVA      Finalizado   \n",
       "4  THIAGO JUNIO DE ALMEIDA  FERNANDA HERCULANO DOS SANTOS      Finalizado   \n",
       "5  THIAGO JUNIO DE ALMEIDA      BARBARA BYANCA ROSA LEMOS       Rejeitado   \n",
       "6  THIAGO JUNIO DE ALMEIDA    GISELE CUSTODIO DE CARVALHO      Finalizado   \n",
       "7  THIAGO JUNIO DE ALMEIDA      BARBARA BYANCA ROSA LEMOS      Finalizado   \n",
       "8  THIAGO JUNIO DE ALMEIDA    GISELE CUSTODIO DE CARVALHO      Finalizado   \n",
       "9  THIAGO JUNIO DE ALMEIDA           FELIPE JOSE SPINUCCI       Encerrado   \n",
       "\n",
       "              Criado          Resolvido  \\\n",
       "0  6/7/2022 12:42:31                NaN   \n",
       "1  6/6/2022 21:15:59  6/7/2022 12:14:26   \n",
       "2  6/6/2022 18:20:08                NaN   \n",
       "3  6/6/2022 18:10:21  6/7/2022 12:23:10   \n",
       "4  6/6/2022 14:46:53  6/6/2022 15:47:45   \n",
       "5  6/6/2022 13:41:01                NaN   \n",
       "6  6/6/2022 12:56:23  6/6/2022 13:52:59   \n",
       "7  6/6/2022 12:53:51  6/6/2022 15:30:03   \n",
       "8  6/6/2022 12:31:59  6/6/2022 13:18:00   \n",
       "9  6/4/2022 11:04:54  6/4/2022 16:53:50   \n",
       "\n",
       "                                     Tipo de chamado Mês Criação Macro Chamado  \n",
       "0                           Hardware - Ponto de Rede     06/2022       Sistema  \n",
       "1  Sistema Interno - Falha na Webservice de Cance...     06/2022      Software  \n",
       "2                                 Hardware - Monitor     06/2022       Sistema  \n",
       "3             Sistema Interno - Pedido não Integrado     06/2022      Software  \n",
       "4  Sistema Interno - Problemas no Envio de Email/...     06/2022       Sistema  \n",
       "5       Sistema Interno - Divergência Entre Sistemas     06/2022      Software  \n",
       "6                              Site - Carrinho Vazio     06/2022       Sistema  \n",
       "7       Sistema Interno - Divergência Entre Sistemas     06/2022      Software  \n",
       "8                               Site - Erro Genérico     06/2022      Software  \n",
       "9  Sistema interno - Falha de Webservice Aprovar ...     06/2022       Sistema  "
      ]
     },
     "execution_count": 4,
     "metadata": {},
     "output_type": "execute_result"
    }
   ],
   "source": [
    "jira = \"https://raw.githubusercontent.com/tjalmeida369/analise_jira_chamados_cdc/main/CHAMADOS%20PLANEJAMENTO%20-%20N1-Total.csv?token=GHSAT0AAAAAABX5OS5ZAWWGFGS2IDX4LKKEYYM6RRQ\"\n",
    "chamados = pd.read_csv(jira)\n",
    "chamados.head(10)\n"
   ]
  },
  {
   "cell_type": "markdown",
   "id": "a2824779",
   "metadata": {},
   "source": [
    "Alterando o formato \"String\" do campo \"Criado\" para o formato \"Datetime64\"."
   ]
  },
  {
   "cell_type": "code",
   "execution_count": 5,
   "id": "c92061cc",
   "metadata": {},
   "outputs": [
    {
     "name": "stdout",
     "output_type": "stream",
     "text": [
      "<class 'pandas.core.frame.DataFrame'>\n",
      "RangeIndex: 5082 entries, 0 to 5081\n",
      "Data columns (total 10 columns):\n",
      " #   Column           Non-Null Count  Dtype         \n",
      "---  ------           --------------  -----         \n",
      " 0   Chave            5082 non-null   object        \n",
      " 1   Resumo           5082 non-null   object        \n",
      " 2   Responsável      5060 non-null   object        \n",
      " 3   Relator          5082 non-null   object        \n",
      " 4   Status           5082 non-null   object        \n",
      " 5   Criado           5082 non-null   datetime64[ns]\n",
      " 6   Resolvido        4836 non-null   object        \n",
      " 7   Tipo de chamado  5065 non-null   object        \n",
      " 8   Mês Criação      5082 non-null   object        \n",
      " 9   Macro Chamado    4451 non-null   object        \n",
      "dtypes: datetime64[ns](1), object(9)\n",
      "memory usage: 397.2+ KB\n"
     ]
    }
   ],
   "source": [
    "#Convertendo a data de string para datetime\n",
    "chamados['Criado'] = pd.to_datetime(chamados['Criado'], format='%m/%d/%Y %H:%M:%S')\n",
    "chamados.info()\n",
    "\n"
   ]
  },
  {
   "cell_type": "markdown",
   "id": "434b06a9",
   "metadata": {},
   "source": [
    "Verificando a quantidade total de chamados abertos em toda a base.\n",
    "* Criando uma coluna com a % de chamados x Tipo de Chamado"
   ]
  },
  {
   "cell_type": "code",
   "execution_count": 6,
   "id": "2e82990f",
   "metadata": {},
   "outputs": [
    {
     "data": {
      "text/html": [
       "<div>\n",
       "<style scoped>\n",
       "    .dataframe tbody tr th:only-of-type {\n",
       "        vertical-align: middle;\n",
       "    }\n",
       "\n",
       "    .dataframe tbody tr th {\n",
       "        vertical-align: top;\n",
       "    }\n",
       "\n",
       "    .dataframe thead th {\n",
       "        text-align: right;\n",
       "    }\n",
       "</style>\n",
       "<table border=\"1\" class=\"dataframe\">\n",
       "  <thead>\n",
       "    <tr style=\"text-align: right;\">\n",
       "      <th></th>\n",
       "      <th>Tipo de chamado</th>\n",
       "      <th>Porcentagem</th>\n",
       "    </tr>\n",
       "  </thead>\n",
       "  <tbody>\n",
       "    <tr>\n",
       "      <th>Sistema Interno - Falha na Webservice de Cancelamento</th>\n",
       "      <td>2674</td>\n",
       "      <td>52.79</td>\n",
       "    </tr>\n",
       "    <tr>\n",
       "      <th>Software - CS</th>\n",
       "      <td>450</td>\n",
       "      <td>8.88</td>\n",
       "    </tr>\n",
       "    <tr>\n",
       "      <th>Software - VPN</th>\n",
       "      <td>271</td>\n",
       "      <td>5.35</td>\n",
       "    </tr>\n",
       "    <tr>\n",
       "      <th>Sistema Interno - Pedido não Integrado</th>\n",
       "      <td>247</td>\n",
       "      <td>4.88</td>\n",
       "    </tr>\n",
       "    <tr>\n",
       "      <th>Sistema Interno - Divergência Entre Sistemas</th>\n",
       "      <td>158</td>\n",
       "      <td>3.12</td>\n",
       "    </tr>\n",
       "  </tbody>\n",
       "</table>\n",
       "</div>"
      ],
      "text/plain": [
       "                                                    Tipo de chamado  \\\n",
       "Sistema Interno - Falha na Webservice de Cancel...             2674   \n",
       "Software - CS                                                   450   \n",
       "Software - VPN                                                  271   \n",
       "Sistema Interno - Pedido não Integrado                          247   \n",
       "Sistema Interno - Divergência Entre Sistemas                    158   \n",
       "\n",
       "                                                    Porcentagem  \n",
       "Sistema Interno - Falha na Webservice de Cancel...        52.79  \n",
       "Software - CS                                              8.88  \n",
       "Software - VPN                                             5.35  \n",
       "Sistema Interno - Pedido não Integrado                     4.88  \n",
       "Sistema Interno - Divergência Entre Sistemas               3.12  "
      ]
     },
     "execution_count": 6,
     "metadata": {},
     "output_type": "execute_result"
    }
   ],
   "source": [
    "# Quatidade total de chamados abertos\n",
    "qtd_chamados = chamados['Tipo de chamado'].value_counts()\n",
    "qtd_chamados = pd.DataFrame(qtd_chamados)\n",
    "qtd_chamados['Porcentagem'] = qtd_chamados['Tipo de chamado'] / qtd_chamados['Tipo de chamado'].sum()\n",
    "qtd_chamados['Porcentagem'].astype(float)\n",
    "pd.set_option('display.float_format', lambda x: '%.2f' % x)\n",
    "qtd_chamados['Porcentagem'] = qtd_chamados['Porcentagem']*100\n",
    "qtd_chamados.head()\n",
    "\n"
   ]
  },
  {
   "cell_type": "markdown",
   "id": "028f776a",
   "metadata": {},
   "source": [
    "Criando um gráfico que mostra a quantidade de chamados por motivo."
   ]
  },
  {
   "cell_type": "code",
   "execution_count": 7,
   "id": "8b90b94e",
   "metadata": {},
   "outputs": [
    {
     "data": {
      "text/plain": [
       "(1.0, 3000.0)"
      ]
     },
     "execution_count": 7,
     "metadata": {},
     "output_type": "execute_result"
    },
    {
     "data": {
      "text/plain": [
       "<Figure size 1080x576 with 0 Axes>"
      ]
     },
     "metadata": {},
     "output_type": "display_data"
    },
    {
     "data": {
      "image/png": "[encoded data removed]",
      "text/plain": [
       "<Figure size 432x288 with 1 Axes>"
      ]
     },
     "metadata": {
      "needs_background": "light"
     },
     "output_type": "display_data"
    }
   ],
   "source": [
    "# Gerando o gráfico com a top 5 de chamados abertos Total\n",
    "sns.set()\n",
    "plt.figure(figsize=(15,8))\n",
    "grafico_chamados = qtd_chamados.head(5).plot.barh(y='Tipo de chamado',  color = '#FF8C00')\n",
    "grafico_chamados.set_title('Quantidade de chamados')\n",
    "plt.xlim((1,3000))\n",
    "\n"
   ]
  },
  {
   "cell_type": "markdown",
   "id": "5e53bc46",
   "metadata": {},
   "source": [
    "Mostrando o mesmo gráfico em porcentagem."
   ]
  },
  {
   "cell_type": "code",
   "execution_count": 8,
   "id": "d21a903e",
   "metadata": {},
   "outputs": [
    {
     "data": {
      "text/plain": [
       "(1.0, 100.0)"
      ]
     },
     "execution_count": 8,
     "metadata": {},
     "output_type": "execute_result"
    },
    {
     "data": {
      "text/plain": [
       "<Figure size 1080x576 with 0 Axes>"
      ]
     },
     "metadata": {},
     "output_type": "display_data"
    },
    {
     "data": {
      "image/png": "[encoded data removed]",
      "text/plain": [
       "<Figure size 432x288 with 1 Axes>"
      ]
     },
     "metadata": {},
     "output_type": "display_data"
    }
   ],
   "source": [
    "#Gerando o gráfico em porcentagem da quatidade Total\n",
    "sns.set()\n",
    "plt.figure(figsize=(15,8))\n",
    "grafico_chamados = qtd_chamados.head(5).plot.barh(y='Porcentagem', color = '#FF8C00')\n",
    "grafico_chamados.set_title('Quantidade de chamados')\n",
    "plt.xlim((1,100))"
   ]
  },
  {
   "cell_type": "markdown",
   "id": "143f2f70",
   "metadata": {},
   "source": [
    "Levantando a quantidade de chamados abertos em 2022(até a data da analise)"
   ]
  },
  {
   "cell_type": "code",
   "execution_count": 9,
   "id": "4d32fdc9",
   "metadata": {},
   "outputs": [],
   "source": [
    "chamados['Mês Criação'].sort_values(ascending=True)\n",
    "chamados['Mês Criação'] = chamados['Mês Criação'].sort_values(ascending=True)"
   ]
  },
  {
   "cell_type": "code",
   "execution_count": 10,
   "id": "bac876ef",
   "metadata": {},
   "outputs": [
    {
     "data": {
      "text/plain": [
       "2022-05-01    186\n",
       "2022-03-01    174\n",
       "2022-04-01    173\n",
       "2022-01-01    136\n",
       "2022-02-01    131\n",
       "2022-06-01     32\n",
       "Name: Mês Criação, dtype: int64"
      ]
     },
     "execution_count": 10,
     "metadata": {},
     "output_type": "execute_result"
    }
   ],
   "source": [
    "chamados['Mês Criação'] = pd.to_datetime(chamados['Mês Criação'], format='%m/%Y')\n",
    "chamados.loc[(chamados['Mês Criação'].dt.year == 2022)]\n",
    "chamados_2022 = chamados.loc[(chamados['Mês Criação'].dt.year == 2022)]\n",
    "chamados_2022['Mês Criação'].value_counts()\n"
   ]
  },
  {
   "cell_type": "markdown",
   "id": "4326baa8",
   "metadata": {},
   "source": [
    "Gráfico de Quantidade de chamados x mês"
   ]
  },
  {
   "cell_type": "code",
   "execution_count": 11,
   "id": "18888895",
   "metadata": {},
   "outputs": [
    {
     "data": {
      "text/plain": [
       "<AxesSubplot:ylabel='Mês Criação'>"
      ]
     },
     "execution_count": 11,
     "metadata": {},
     "output_type": "execute_result"
    },
    {
     "data": {
      "image/png": "[encoded data removed]",
      "text/plain": [
       "<Figure size 432x288 with 1 Axes>"
      ]
     },
     "metadata": {},
     "output_type": "display_data"
    }
   ],
   "source": [
    "chamados_2022['Mês Criação'].sort_values(ascending=False)\n",
    "qtd_chamados_mes = pd.DataFrame(chamados_2022['Mês Criação'].sort_values(ascending=False))\n",
    "qtd_chamados_mes.value_counts().plot.barh(y='Mês Criação', color = '#FF8C00')\n",
    "\n"
   ]
  },
  {
   "cell_type": "markdown",
   "id": "37cb23bf",
   "metadata": {},
   "source": [
    "Gráfico de barras onde mostra as pessoas que mais abriram chamados em 2022"
   ]
  },
  {
   "cell_type": "code",
   "execution_count": 12,
   "id": "fadb2c5a",
   "metadata": {},
   "outputs": [
    {
     "data": {
      "text/plain": [
       "<AxesSubplot:>"
      ]
     },
     "execution_count": 12,
     "metadata": {},
     "output_type": "execute_result"
    },
    {
     "data": {
      "image/png": "[encoded data removed]",
      "text/plain": [
       "<Figure size 432x288 with 1 Axes>"
      ]
     },
     "metadata": {},
     "output_type": "display_data"
    }
   ],
   "source": [
    "chamados_2022['Relator'].value_counts().head(10).plot.barh(color = '#FF8C00')"
   ]
  },
  {
   "cell_type": "markdown",
   "id": "7af4c141",
   "metadata": {},
   "source": [
    "Criando um gráfico que mostra a porcentagem de chamados abertos por pessoa. "
   ]
  },
  {
   "cell_type": "code",
   "execution_count": 13,
   "id": "a1dc6cd4",
   "metadata": {},
   "outputs": [
    {
     "data": {
      "text/plain": [
       "<AxesSubplot:>"
      ]
     },
     "execution_count": 13,
     "metadata": {},
     "output_type": "execute_result"
    },
    {
     "data": {
      "image/png": "[encoded data removed]",
      "text/plain": [
       "<Figure size 432x288 with 1 Axes>"
      ]
     },
     "metadata": {},
     "output_type": "display_data"
    }
   ],
   "source": [
    "chamados_2022['Relator'].value_counts().head(5)\n",
    "qtd_abertos = pd.DataFrame(chamados_2022['Relator'].value_counts())\n",
    "chamados_abertos = qtd_abertos['Relator'] / qtd_abertos['Relator'].sum()\n",
    "chamados_abertos = pd.DataFrame(chamados_abertos)\n",
    "chamados_abertos['Relator'] = chamados_abertos['Relator']*100\n",
    "chamados_abertos['Relator'].head(10).plot.barh(color = '#FF8C00')\n",
    "\n"
   ]
  },
  {
   "cell_type": "markdown",
   "id": "d2ce03ff",
   "metadata": {},
   "source": [
    "Tabela com as % de chamados abertos por pessoa em 2022"
   ]
  },
  {
   "cell_type": "code",
   "execution_count": 14,
   "id": "c0be4203",
   "metadata": {},
   "outputs": [
    {
     "data": {
      "text/plain": [
       "NAIAD CAROLINE APARECIDA BARBOSA     9.50\n",
       "MIRIAN DE ANDRADE SILVA              7.93\n",
       "TASSIANE CRISTINA FONSECA DA SILVA   6.61\n",
       "FERNANDA ELEGANCIA DE QUEIROZ        6.01\n",
       "TAINA DE JESUS MIQUELINO             5.41\n",
       "                                     ... \n",
       "BEATRIZ LEME DA SILVA                0.12\n",
       "TAMIRES GARCIA                       0.12\n",
       "LETICIA DA COSTA SILVA               0.12\n",
       "NICOLY MILANESE SOARES               0.12\n",
       "Francisco Walace Pereira de Sousa    0.12\n",
       "Name: Relator, Length: 86, dtype: float64"
      ]
     },
     "execution_count": 14,
     "metadata": {},
     "output_type": "execute_result"
    }
   ],
   "source": [
    "chamados = qtd_abertos['Relator'] / qtd_abertos['Relator'].sum()\n",
    "chamados_abertos = pd.DataFrame(chamados_abertos)\n",
    "chamados_abertos['Relator']\n"
   ]
  },
  {
   "cell_type": "markdown",
   "id": "7bb4307c",
   "metadata": {},
   "source": [
    "Gráfico de Tipo de Chamados abertos em 2022"
   ]
  },
  {
   "cell_type": "code",
   "execution_count": 15,
   "id": "8f403ec6",
   "metadata": {},
   "outputs": [
    {
     "data": {
      "text/plain": [
       "(1.0, 100.0)"
      ]
     },
     "execution_count": 15,
     "metadata": {},
     "output_type": "execute_result"
    },
    {
     "data": {
      "text/plain": [
       "<Figure size 1080x576 with 0 Axes>"
      ]
     },
     "metadata": {},
     "output_type": "display_data"
    },
    {
     "data": {
      "image/png": "[encoded data removed]",
      "text/plain": [
       "<Figure size 432x288 with 1 Axes>"
      ]
     },
     "metadata": {},
     "output_type": "display_data"
    }
   ],
   "source": [
    "sns.set()\n",
    "plt.figure(figsize=(15,8))\n",
    "grafico_chamados = qtd_chamados.head(5).plot.barh(y='Porcentagem', color = '#FF8C00')\n",
    "grafico_chamados.set_title('Quantidade de chamados')\n",
    "plt.xlim((1,100))"
   ]
  },
  {
   "cell_type": "markdown",
   "id": "823e1aee",
   "metadata": {},
   "source": [
    "Fazendo a tratativa de casos que foram abertos em outra \"fila\""
   ]
  },
  {
   "cell_type": "code",
   "execution_count": 16,
   "id": "df2e4d01",
   "metadata": {},
   "outputs": [
    {
     "data": {
      "text/plain": [
       "0      0\n",
       "1      0\n",
       "2      0\n",
       "3      0\n",
       "4      0\n",
       "      ..\n",
       "827    0\n",
       "828    0\n",
       "829    0\n",
       "830    0\n",
       "831    0\n",
       "Name: Webservice, Length: 832, dtype: int64"
      ]
     },
     "execution_count": 16,
     "metadata": {},
     "output_type": "execute_result"
    }
   ],
   "source": [
    "webservice = chamados_2022['Resumo'].str.lower().str.count(\"webservice\")\n",
    "\n",
    "dfws = pd.DataFrame(webservice)\n",
    "\n",
    "chamados_2022['Webservice'] = dfws['Resumo']\n",
    "chamados_2022['Webservice']\n"
   ]
  },
  {
   "cell_type": "code",
   "execution_count": 17,
   "id": "398196c3",
   "metadata": {},
   "outputs": [
    {
     "data": {
      "text/html": [
       "<div>\n",
       "<style scoped>\n",
       "    .dataframe tbody tr th:only-of-type {\n",
       "        vertical-align: middle;\n",
       "    }\n",
       "\n",
       "    .dataframe tbody tr th {\n",
       "        vertical-align: top;\n",
       "    }\n",
       "\n",
       "    .dataframe thead th {\n",
       "        text-align: right;\n",
       "    }\n",
       "</style>\n",
       "<table border=\"1\" class=\"dataframe\">\n",
       "  <thead>\n",
       "    <tr style=\"text-align: right;\">\n",
       "      <th></th>\n",
       "      <th>Chave</th>\n",
       "      <th>Resumo</th>\n",
       "      <th>Responsável</th>\n",
       "      <th>Relator</th>\n",
       "      <th>Status</th>\n",
       "      <th>Criado</th>\n",
       "      <th>Resolvido</th>\n",
       "      <th>Tipo de chamado</th>\n",
       "      <th>Mês Criação</th>\n",
       "      <th>Macro Chamado</th>\n",
       "      <th>Webservice</th>\n",
       "    </tr>\n",
       "  </thead>\n",
       "  <tbody>\n",
       "    <tr>\n",
       "      <th>821</th>\n",
       "      <td>CDC-7312</td>\n",
       "      <td>minha vpn não esta entrando</td>\n",
       "      <td>THIAGO JUNIO DE ALMEIDA</td>\n",
       "      <td>LEONARDO ROBERTO LEMOS</td>\n",
       "      <td>Encerrado</td>\n",
       "      <td>2022-01-05 13:07:26</td>\n",
       "      <td>1/5/2022 19:05:51</td>\n",
       "      <td>Software - VPN</td>\n",
       "      <td>2022-01-01</td>\n",
       "      <td>Sistema</td>\n",
       "      <td>0</td>\n",
       "    </tr>\n",
       "    <tr>\n",
       "      <th>526</th>\n",
       "      <td>CDC-7877</td>\n",
       "      <td>Cancelamento de WebService INO</td>\n",
       "      <td>THIAGO JUNIO DE ALMEIDA</td>\n",
       "      <td>TASSIANE CRISTINA FONSECA DA SILVA</td>\n",
       "      <td>Encerrado</td>\n",
       "      <td>2022-03-08 19:57:52</td>\n",
       "      <td>3/8/2022 21:01:11</td>\n",
       "      <td>Sistema Interno - Falha na Webservice de Cance...</td>\n",
       "      <td>2022-03-01</td>\n",
       "      <td>Sistema</td>\n",
       "      <td>1</td>\n",
       "    </tr>\n",
       "    <tr>\n",
       "      <th>216</th>\n",
       "      <td>CDC-8467</td>\n",
       "      <td>CS não carrrega Task, quando crio o cadastro d...</td>\n",
       "      <td>THIAGO JUNIO DE ALMEIDA</td>\n",
       "      <td>HEBERT DE CARVALHO</td>\n",
       "      <td>Encerrado</td>\n",
       "      <td>2022-05-02 14:39:36</td>\n",
       "      <td>5/2/2022 15:11:49</td>\n",
       "      <td>Software - CS</td>\n",
       "      <td>2022-05-01</td>\n",
       "      <td>Sistema</td>\n",
       "      <td>0</td>\n",
       "    </tr>\n",
       "    <tr>\n",
       "      <th>556</th>\n",
       "      <td>CDC-7815</td>\n",
       "      <td>Liberação de web services</td>\n",
       "      <td>THIAGO JUNIO DE ALMEIDA</td>\n",
       "      <td>ANDRESSA APARECIDA ALVES</td>\n",
       "      <td>Encerrado</td>\n",
       "      <td>2022-03-02 20:05:27</td>\n",
       "      <td>3/2/2022 21:34:23</td>\n",
       "      <td>Sistema Interno - Falha na Webservice de Cance...</td>\n",
       "      <td>2022-03-01</td>\n",
       "      <td>Sistema</td>\n",
       "      <td>0</td>\n",
       "    </tr>\n",
       "    <tr>\n",
       "      <th>557</th>\n",
       "      <td>CDC-7813</td>\n",
       "      <td>PM Mobly - Verificar erro no site</td>\n",
       "      <td>THIAGO JUNIO DE ALMEIDA</td>\n",
       "      <td>PRISCILA LIMA DE PAULA</td>\n",
       "      <td>Encerrado</td>\n",
       "      <td>2022-03-02 19:18:45</td>\n",
       "      <td>3/8/2022 16:24:36</td>\n",
       "      <td>Site - Erro Genérico</td>\n",
       "      <td>2022-03-01</td>\n",
       "      <td>Sistema</td>\n",
       "      <td>0</td>\n",
       "    </tr>\n",
       "  </tbody>\n",
       "</table>\n",
       "</div>"
      ],
      "text/plain": [
       "        Chave                                             Resumo  \\\n",
       "821  CDC-7312                       minha vpn não esta entrando    \n",
       "526  CDC-7877                     Cancelamento de WebService INO   \n",
       "216  CDC-8467  CS não carrrega Task, quando crio o cadastro d...   \n",
       "556  CDC-7815                          Liberação de web services   \n",
       "557  CDC-7813                  PM Mobly - Verificar erro no site   \n",
       "\n",
       "                 Responsável                             Relator     Status  \\\n",
       "821  THIAGO JUNIO DE ALMEIDA              LEONARDO ROBERTO LEMOS  Encerrado   \n",
       "526  THIAGO JUNIO DE ALMEIDA  TASSIANE CRISTINA FONSECA DA SILVA  Encerrado   \n",
       "216  THIAGO JUNIO DE ALMEIDA                  HEBERT DE CARVALHO  Encerrado   \n",
       "556  THIAGO JUNIO DE ALMEIDA            ANDRESSA APARECIDA ALVES  Encerrado   \n",
       "557  THIAGO JUNIO DE ALMEIDA              PRISCILA LIMA DE PAULA  Encerrado   \n",
       "\n",
       "                 Criado          Resolvido  \\\n",
       "821 2022-01-05 13:07:26  1/5/2022 19:05:51   \n",
       "526 2022-03-08 19:57:52  3/8/2022 21:01:11   \n",
       "216 2022-05-02 14:39:36  5/2/2022 15:11:49   \n",
       "556 2022-03-02 20:05:27  3/2/2022 21:34:23   \n",
       "557 2022-03-02 19:18:45  3/8/2022 16:24:36   \n",
       "\n",
       "                                       Tipo de chamado Mês Criação  \\\n",
       "821                                     Software - VPN  2022-01-01   \n",
       "526  Sistema Interno - Falha na Webservice de Cance...  2022-03-01   \n",
       "216                                      Software - CS  2022-05-01   \n",
       "556  Sistema Interno - Falha na Webservice de Cance...  2022-03-01   \n",
       "557                               Site - Erro Genérico  2022-03-01   \n",
       "\n",
       "    Macro Chamado  Webservice  \n",
       "821       Sistema           0  \n",
       "526       Sistema           1  \n",
       "216       Sistema           0  \n",
       "556       Sistema           0  \n",
       "557       Sistema           0  "
      ]
     },
     "execution_count": 17,
     "metadata": {},
     "output_type": "execute_result"
    }
   ],
   "source": [
    "chamados_2022.sample(5)"
   ]
  },
  {
   "cell_type": "markdown",
   "id": "ef75973a",
   "metadata": {},
   "source": [
    "localizado que 10 casos de Webservice foram abertos como \"Software - CS\" e não como Falha na Webservice"
   ]
  },
  {
   "cell_type": "code",
   "execution_count": 18,
   "id": "b3a1b184",
   "metadata": {},
   "outputs": [
    {
     "data": {
      "text/html": [
       "<div>\n",
       "<style scoped>\n",
       "    .dataframe tbody tr th:only-of-type {\n",
       "        vertical-align: middle;\n",
       "    }\n",
       "\n",
       "    .dataframe tbody tr th {\n",
       "        vertical-align: top;\n",
       "    }\n",
       "\n",
       "    .dataframe thead th {\n",
       "        text-align: right;\n",
       "    }\n",
       "</style>\n",
       "<table border=\"1\" class=\"dataframe\">\n",
       "  <thead>\n",
       "    <tr style=\"text-align: right;\">\n",
       "      <th></th>\n",
       "      <th>Webservice</th>\n",
       "    </tr>\n",
       "    <tr>\n",
       "      <th>Tipo de chamado</th>\n",
       "      <th></th>\n",
       "    </tr>\n",
       "  </thead>\n",
       "  <tbody>\n",
       "    <tr>\n",
       "      <th>All</th>\n",
       "      <td>436</td>\n",
       "    </tr>\n",
       "    <tr>\n",
       "      <th>Sistema Interno - Falha na Webservice de Cancelamento</th>\n",
       "      <td>308</td>\n",
       "    </tr>\n",
       "    <tr>\n",
       "      <th>Sistema interno - Falha de Webservice Aprovar Coleta</th>\n",
       "      <td>99</td>\n",
       "    </tr>\n",
       "    <tr>\n",
       "      <th>Sistema interno - Falha de Webservice Gerar Cupom</th>\n",
       "      <td>11</td>\n",
       "    </tr>\n",
       "    <tr>\n",
       "      <th>Software - CS</th>\n",
       "      <td>10</td>\n",
       "    </tr>\n",
       "    <tr>\n",
       "      <th>Sistema interno - Falha de Webservice SPLIT</th>\n",
       "      <td>6</td>\n",
       "    </tr>\n",
       "    <tr>\n",
       "      <th>Sistema interno - Falha de Webservice Coleta Seller</th>\n",
       "      <td>2</td>\n",
       "    </tr>\n",
       "    <tr>\n",
       "      <th>Sistema Interno - Erro ao Salvar Informações</th>\n",
       "      <td>0</td>\n",
       "    </tr>\n",
       "    <tr>\n",
       "      <th>Site - Divergência de preço</th>\n",
       "      <td>0</td>\n",
       "    </tr>\n",
       "    <tr>\n",
       "      <th>Telefonia - Ligação Ruim</th>\n",
       "      <td>0</td>\n",
       "    </tr>\n",
       "    <tr>\n",
       "      <th>Telefonia - Classificações</th>\n",
       "      <td>0</td>\n",
       "    </tr>\n",
       "    <tr>\n",
       "      <th>Software - VPN</th>\n",
       "      <td>0</td>\n",
       "    </tr>\n",
       "    <tr>\n",
       "      <th>Software - Ultra VNC</th>\n",
       "      <td>0</td>\n",
       "    </tr>\n",
       "    <tr>\n",
       "      <th>Software - Pacote Office</th>\n",
       "      <td>0</td>\n",
       "    </tr>\n",
       "    <tr>\n",
       "      <th>Software - Outlook</th>\n",
       "      <td>0</td>\n",
       "    </tr>\n",
       "    <tr>\n",
       "      <th>Software - ODBC Atualizar Relatórios</th>\n",
       "      <td>0</td>\n",
       "    </tr>\n",
       "    <tr>\n",
       "      <th>Software - Google Drive</th>\n",
       "      <td>0</td>\n",
       "    </tr>\n",
       "    <tr>\n",
       "      <th>Software - Google Chrome</th>\n",
       "      <td>0</td>\n",
       "    </tr>\n",
       "    <tr>\n",
       "      <th>Hardware - Monitor</th>\n",
       "      <td>0</td>\n",
       "    </tr>\n",
       "    <tr>\n",
       "      <th>Site - Erro no cálculo do frete</th>\n",
       "      <td>0</td>\n",
       "    </tr>\n",
       "    <tr>\n",
       "      <th>Site - Erro Genérico</th>\n",
       "      <td>0</td>\n",
       "    </tr>\n",
       "    <tr>\n",
       "      <th>Site - Carrinho Vazio</th>\n",
       "      <td>0</td>\n",
       "    </tr>\n",
       "    <tr>\n",
       "      <th>Sistema Interno - Erro ao Salvar Informações\\t</th>\n",
       "      <td>0</td>\n",
       "    </tr>\n",
       "    <tr>\n",
       "      <th>Hardware - Ponto de Rede</th>\n",
       "      <td>0</td>\n",
       "    </tr>\n",
       "    <tr>\n",
       "      <th>Hardware - TV</th>\n",
       "      <td>0</td>\n",
       "    </tr>\n",
       "    <tr>\n",
       "      <th>Hardware - Headset</th>\n",
       "      <td>0</td>\n",
       "    </tr>\n",
       "    <tr>\n",
       "      <th>Hardware - Teclado</th>\n",
       "      <td>0</td>\n",
       "    </tr>\n",
       "    <tr>\n",
       "      <th>Sistema Interno - Problemas no Recebimento de Email/Plan</th>\n",
       "      <td>0</td>\n",
       "    </tr>\n",
       "    <tr>\n",
       "      <th>Sistema Interno - Problemas no Envio de Email/Plan</th>\n",
       "      <td>0</td>\n",
       "    </tr>\n",
       "    <tr>\n",
       "      <th>Sistema Interno - Pedido não Integrado</th>\n",
       "      <td>0</td>\n",
       "    </tr>\n",
       "    <tr>\n",
       "      <th>Sistema Interno - Não Carrega Pedidos</th>\n",
       "      <td>0</td>\n",
       "    </tr>\n",
       "    <tr>\n",
       "      <th>Sistema Interno - Lentidão</th>\n",
       "      <td>0</td>\n",
       "    </tr>\n",
       "    <tr>\n",
       "      <th>Sistema Interno - Indisponibilidade</th>\n",
       "      <td>0</td>\n",
       "    </tr>\n",
       "    <tr>\n",
       "      <th>Sistema Interno - Divergência Entre Sistemas</th>\n",
       "      <td>0</td>\n",
       "    </tr>\n",
       "    <tr>\n",
       "      <th>Sistema Interno - Erro para Registrar</th>\n",
       "      <td>0</td>\n",
       "    </tr>\n",
       "    <tr>\n",
       "      <th>Hardware - Cabo HDMI/VGA</th>\n",
       "      <td>0</td>\n",
       "    </tr>\n",
       "  </tbody>\n",
       "</table>\n",
       "</div>"
      ],
      "text/plain": [
       "                                                    Webservice\n",
       "Tipo de chamado                                               \n",
       "All                                                        436\n",
       "Sistema Interno - Falha na Webservice de Cancel...         308\n",
       "Sistema interno - Falha de Webservice Aprovar C...          99\n",
       "Sistema interno - Falha de Webservice Gerar Cupom           11\n",
       "Software - CS                                               10\n",
       "Sistema interno - Falha de Webservice SPLIT                  6\n",
       "Sistema interno - Falha de Webservice Coleta Se...           2\n",
       "Sistema Interno - Erro ao Salvar Informações                 0\n",
       "Site - Divergência de preço                                  0\n",
       "Telefonia - Ligação Ruim                                     0\n",
       "Telefonia - Classificações                                   0\n",
       "Software - VPN                                               0\n",
       "Software - Ultra VNC                                         0\n",
       "Software - Pacote Office                                     0\n",
       "Software - Outlook                                           0\n",
       "Software - ODBC Atualizar Relatórios                         0\n",
       "Software - Google Drive                                      0\n",
       "Software - Google Chrome                                     0\n",
       "Hardware - Monitor                                           0\n",
       "Site - Erro no cálculo do frete                              0\n",
       "Site - Erro Genérico                                         0\n",
       "Site - Carrinho Vazio                                        0\n",
       "Sistema Interno - Erro ao Salvar Informações\\t               0\n",
       "Hardware - Ponto de Rede                                     0\n",
       "Hardware - TV                                                0\n",
       "Hardware - Headset                                           0\n",
       "Hardware - Teclado                                           0\n",
       "Sistema Interno - Problemas no Recebimento de E...           0\n",
       "Sistema Interno - Problemas no Envio de Email/Plan           0\n",
       "Sistema Interno - Pedido não Integrado                       0\n",
       "Sistema Interno - Não Carrega Pedidos                        0\n",
       "Sistema Interno - Lentidão                                   0\n",
       "Sistema Interno - Indisponibilidade                          0\n",
       "Sistema Interno - Divergência Entre Sistemas                 0\n",
       "Sistema Interno - Erro para Registrar                        0\n",
       "Hardware - Cabo HDMI/VGA                                     0"
      ]
     },
     "execution_count": 18,
     "metadata": {},
     "output_type": "execute_result"
    }
   ],
   "source": [
    "chamados_webservice = pd.pivot_table(chamados_2022, index=['Tipo de chamado'], values = 'Webservice', aggfunc='sum', margins = True)\n",
    "chamados_webservice.sort_values(by='Webservice', ascending = False)\n"
   ]
  },
  {
   "cell_type": "markdown",
   "id": "d6811658",
   "metadata": {},
   "source": [
    "Atribuindo o valor 1 para os casos abertos fora da fila."
   ]
  },
  {
   "cell_type": "code",
   "execution_count": 19,
   "id": "0971b392",
   "metadata": {},
   "outputs": [
    {
     "data": {
      "text/plain": [
       "0      1\n",
       "1      1\n",
       "2      1\n",
       "3      1\n",
       "4      1\n",
       "      ..\n",
       "827    1\n",
       "828    1\n",
       "829    1\n",
       "830    1\n",
       "831    1\n",
       "Name: Count_chamados, Length: 832, dtype: int32"
      ]
     },
     "execution_count": 19,
     "metadata": {},
     "output_type": "execute_result"
    }
   ],
   "source": [
    "chamados_2022['Count_chamados'] = chamados_2022['Webservice']== 0\n",
    "chamados_2022['Count_chamados'].replace('True', 1).astype(int)\n",
    "\n"
   ]
  },
  {
   "cell_type": "code",
   "execution_count": 20,
   "id": "11f02361",
   "metadata": {},
   "outputs": [
    {
     "data": {
      "text/html": [
       "<div>\n",
       "<style scoped>\n",
       "    .dataframe tbody tr th:only-of-type {\n",
       "        vertical-align: middle;\n",
       "    }\n",
       "\n",
       "    .dataframe tbody tr th {\n",
       "        vertical-align: top;\n",
       "    }\n",
       "\n",
       "    .dataframe thead th {\n",
       "        text-align: right;\n",
       "    }\n",
       "</style>\n",
       "<table border=\"1\" class=\"dataframe\">\n",
       "  <thead>\n",
       "    <tr style=\"text-align: right;\">\n",
       "      <th></th>\n",
       "      <th>Count_chamados</th>\n",
       "      <th>Webservice</th>\n",
       "    </tr>\n",
       "    <tr>\n",
       "      <th>Tipo de chamado</th>\n",
       "      <th></th>\n",
       "      <th></th>\n",
       "    </tr>\n",
       "  </thead>\n",
       "  <tbody>\n",
       "    <tr>\n",
       "      <th>All</th>\n",
       "      <td>395</td>\n",
       "      <td>436</td>\n",
       "    </tr>\n",
       "    <tr>\n",
       "      <th>Sistema Interno - Falha na Webservice de Cancelamento</th>\n",
       "      <td>96</td>\n",
       "      <td>308</td>\n",
       "    </tr>\n",
       "    <tr>\n",
       "      <th>Sistema interno - Falha de Webservice Aprovar Coleta</th>\n",
       "      <td>23</td>\n",
       "      <td>99</td>\n",
       "    </tr>\n",
       "    <tr>\n",
       "      <th>Sistema interno - Falha de Webservice Gerar Cupom</th>\n",
       "      <td>3</td>\n",
       "      <td>11</td>\n",
       "    </tr>\n",
       "    <tr>\n",
       "      <th>Software - CS</th>\n",
       "      <td>13</td>\n",
       "      <td>10</td>\n",
       "    </tr>\n",
       "    <tr>\n",
       "      <th>Sistema interno - Falha de Webservice SPLIT</th>\n",
       "      <td>1</td>\n",
       "      <td>6</td>\n",
       "    </tr>\n",
       "    <tr>\n",
       "      <th>Sistema interno - Falha de Webservice Coleta Seller</th>\n",
       "      <td>2</td>\n",
       "      <td>2</td>\n",
       "    </tr>\n",
       "    <tr>\n",
       "      <th>Sistema Interno - Erro ao Salvar Informações</th>\n",
       "      <td>22</td>\n",
       "      <td>0</td>\n",
       "    </tr>\n",
       "    <tr>\n",
       "      <th>Site - Divergência de preço</th>\n",
       "      <td>2</td>\n",
       "      <td>0</td>\n",
       "    </tr>\n",
       "    <tr>\n",
       "      <th>Telefonia - Ligação Ruim</th>\n",
       "      <td>2</td>\n",
       "      <td>0</td>\n",
       "    </tr>\n",
       "    <tr>\n",
       "      <th>Telefonia - Classificações</th>\n",
       "      <td>4</td>\n",
       "      <td>0</td>\n",
       "    </tr>\n",
       "    <tr>\n",
       "      <th>Software - VPN</th>\n",
       "      <td>35</td>\n",
       "      <td>0</td>\n",
       "    </tr>\n",
       "    <tr>\n",
       "      <th>Software - Ultra VNC</th>\n",
       "      <td>1</td>\n",
       "      <td>0</td>\n",
       "    </tr>\n",
       "    <tr>\n",
       "      <th>Software - Pacote Office</th>\n",
       "      <td>1</td>\n",
       "      <td>0</td>\n",
       "    </tr>\n",
       "    <tr>\n",
       "      <th>Software - Outlook</th>\n",
       "      <td>1</td>\n",
       "      <td>0</td>\n",
       "    </tr>\n",
       "    <tr>\n",
       "      <th>Software - ODBC Atualizar Relatórios</th>\n",
       "      <td>1</td>\n",
       "      <td>0</td>\n",
       "    </tr>\n",
       "    <tr>\n",
       "      <th>Software - Google Drive</th>\n",
       "      <td>2</td>\n",
       "      <td>0</td>\n",
       "    </tr>\n",
       "    <tr>\n",
       "      <th>Software - Google Chrome</th>\n",
       "      <td>3</td>\n",
       "      <td>0</td>\n",
       "    </tr>\n",
       "    <tr>\n",
       "      <th>Hardware - Monitor</th>\n",
       "      <td>14</td>\n",
       "      <td>0</td>\n",
       "    </tr>\n",
       "    <tr>\n",
       "      <th>Site - Erro no cálculo do frete</th>\n",
       "      <td>2</td>\n",
       "      <td>0</td>\n",
       "    </tr>\n",
       "    <tr>\n",
       "      <th>Site - Erro Genérico</th>\n",
       "      <td>10</td>\n",
       "      <td>0</td>\n",
       "    </tr>\n",
       "    <tr>\n",
       "      <th>Site - Carrinho Vazio</th>\n",
       "      <td>1</td>\n",
       "      <td>0</td>\n",
       "    </tr>\n",
       "    <tr>\n",
       "      <th>Sistema Interno - Erro ao Salvar Informações\\t</th>\n",
       "      <td>9</td>\n",
       "      <td>0</td>\n",
       "    </tr>\n",
       "    <tr>\n",
       "      <th>Hardware - Ponto de Rede</th>\n",
       "      <td>4</td>\n",
       "      <td>0</td>\n",
       "    </tr>\n",
       "    <tr>\n",
       "      <th>Hardware - TV</th>\n",
       "      <td>1</td>\n",
       "      <td>0</td>\n",
       "    </tr>\n",
       "    <tr>\n",
       "      <th>Hardware - Headset</th>\n",
       "      <td>9</td>\n",
       "      <td>0</td>\n",
       "    </tr>\n",
       "    <tr>\n",
       "      <th>Hardware - Teclado</th>\n",
       "      <td>3</td>\n",
       "      <td>0</td>\n",
       "    </tr>\n",
       "    <tr>\n",
       "      <th>Sistema Interno - Problemas no Recebimento de Email/Plan</th>\n",
       "      <td>7</td>\n",
       "      <td>0</td>\n",
       "    </tr>\n",
       "    <tr>\n",
       "      <th>Sistema Interno - Problemas no Envio de Email/Plan</th>\n",
       "      <td>14</td>\n",
       "      <td>0</td>\n",
       "    </tr>\n",
       "    <tr>\n",
       "      <th>Sistema Interno - Pedido não Integrado</th>\n",
       "      <td>33</td>\n",
       "      <td>0</td>\n",
       "    </tr>\n",
       "    <tr>\n",
       "      <th>Sistema Interno - Não Carrega Pedidos</th>\n",
       "      <td>22</td>\n",
       "      <td>0</td>\n",
       "    </tr>\n",
       "    <tr>\n",
       "      <th>Sistema Interno - Lentidão</th>\n",
       "      <td>10</td>\n",
       "      <td>0</td>\n",
       "    </tr>\n",
       "    <tr>\n",
       "      <th>Sistema Interno - Indisponibilidade</th>\n",
       "      <td>25</td>\n",
       "      <td>0</td>\n",
       "    </tr>\n",
       "    <tr>\n",
       "      <th>Sistema Interno - Divergência Entre Sistemas</th>\n",
       "      <td>14</td>\n",
       "      <td>0</td>\n",
       "    </tr>\n",
       "    <tr>\n",
       "      <th>Sistema Interno - Erro para Registrar</th>\n",
       "      <td>2</td>\n",
       "      <td>0</td>\n",
       "    </tr>\n",
       "    <tr>\n",
       "      <th>Hardware - Cabo HDMI/VGA</th>\n",
       "      <td>3</td>\n",
       "      <td>0</td>\n",
       "    </tr>\n",
       "  </tbody>\n",
       "</table>\n",
       "</div>"
      ],
      "text/plain": [
       "                                                    Count_chamados  Webservice\n",
       "Tipo de chamado                                                               \n",
       "All                                                            395         436\n",
       "Sistema Interno - Falha na Webservice de Cancel...              96         308\n",
       "Sistema interno - Falha de Webservice Aprovar C...              23          99\n",
       "Sistema interno - Falha de Webservice Gerar Cupom                3          11\n",
       "Software - CS                                                   13          10\n",
       "Sistema interno - Falha de Webservice SPLIT                      1           6\n",
       "Sistema interno - Falha de Webservice Coleta Se...               2           2\n",
       "Sistema Interno - Erro ao Salvar Informações                    22           0\n",
       "Site - Divergência de preço                                      2           0\n",
       "Telefonia - Ligação Ruim                                         2           0\n",
       "Telefonia - Classificações                                       4           0\n",
       "Software - VPN                                                  35           0\n",
       "Software - Ultra VNC                                             1           0\n",
       "Software - Pacote Office                                         1           0\n",
       "Software - Outlook                                               1           0\n",
       "Software - ODBC Atualizar Relatórios                             1           0\n",
       "Software - Google Drive                                          2           0\n",
       "Software - Google Chrome                                         3           0\n",
       "Hardware - Monitor                                              14           0\n",
       "Site - Erro no cálculo do frete                                  2           0\n",
       "Site - Erro Genérico                                            10           0\n",
       "Site - Carrinho Vazio                                            1           0\n",
       "Sistema Interno - Erro ao Salvar Informações\\t                   9           0\n",
       "Hardware - Ponto de Rede                                         4           0\n",
       "Hardware - TV                                                    1           0\n",
       "Hardware - Headset                                               9           0\n",
       "Hardware - Teclado                                               3           0\n",
       "Sistema Interno - Problemas no Recebimento de E...               7           0\n",
       "Sistema Interno - Problemas no Envio de Email/Plan              14           0\n",
       "Sistema Interno - Pedido não Integrado                          33           0\n",
       "Sistema Interno - Não Carrega Pedidos                           22           0\n",
       "Sistema Interno - Lentidão                                      10           0\n",
       "Sistema Interno - Indisponibilidade                             25           0\n",
       "Sistema Interno - Divergência Entre Sistemas                    14           0\n",
       "Sistema Interno - Erro para Registrar                            2           0\n",
       "Hardware - Cabo HDMI/VGA                                         3           0"
      ]
     },
     "execution_count": 20,
     "metadata": {},
     "output_type": "execute_result"
    }
   ],
   "source": [
    "chamados_webservice = pd.pivot_table(chamados_2022, index=['Tipo de chamado'], values = ['Webservice','Count_chamados'], aggfunc='sum', margins=True)\n",
    "chamados_webservice.sort_values(by='Webservice', ascending = False)"
   ]
  },
  {
   "cell_type": "markdown",
   "id": "b5c3633b",
   "metadata": {},
   "source": [
    "Somando os valores que foram atribuidos \"1\" no comando anterior e trazendo o valor correto em cada fila.\n",
    "Criando também uma coluna com as % de cada caso."
   ]
  },
  {
   "cell_type": "code",
   "execution_count": 21,
   "id": "20d3fa34",
   "metadata": {},
   "outputs": [],
   "source": [
    "chamados_2022['qtd'] = chamados_2022['Count_chamados']+ chamados_2022['Webservice']\n"
   ]
  },
  {
   "cell_type": "markdown",
   "id": "d83b7014",
   "metadata": {},
   "source": [
    "Criando a coluna de % depois de levantar os dados corretos de cada Fila de chamados."
   ]
  },
  {
   "cell_type": "code",
   "execution_count": 22,
   "id": "6743a451",
   "metadata": {},
   "outputs": [
    {
     "data": {
      "text/html": [
       "<div>\n",
       "<style scoped>\n",
       "    .dataframe tbody tr th:only-of-type {\n",
       "        vertical-align: middle;\n",
       "    }\n",
       "\n",
       "    .dataframe tbody tr th {\n",
       "        vertical-align: top;\n",
       "    }\n",
       "\n",
       "    .dataframe thead th {\n",
       "        text-align: right;\n",
       "    }\n",
       "</style>\n",
       "<table border=\"1\" class=\"dataframe\">\n",
       "  <thead>\n",
       "    <tr style=\"text-align: right;\">\n",
       "      <th></th>\n",
       "      <th>qtd</th>\n",
       "      <th>%</th>\n",
       "    </tr>\n",
       "    <tr>\n",
       "      <th>Tipo de chamado</th>\n",
       "      <th></th>\n",
       "      <th></th>\n",
       "    </tr>\n",
       "  </thead>\n",
       "  <tbody>\n",
       "    <tr>\n",
       "      <th>Sistema Interno - Falha na Webservice de Cancelamento</th>\n",
       "      <td>404</td>\n",
       "      <td>48.62</td>\n",
       "    </tr>\n",
       "    <tr>\n",
       "      <th>Sistema interno - Falha de Webservice Aprovar Coleta</th>\n",
       "      <td>122</td>\n",
       "      <td>14.68</td>\n",
       "    </tr>\n",
       "    <tr>\n",
       "      <th>Software - VPN</th>\n",
       "      <td>35</td>\n",
       "      <td>4.21</td>\n",
       "    </tr>\n",
       "    <tr>\n",
       "      <th>Sistema Interno - Pedido não Integrado</th>\n",
       "      <td>33</td>\n",
       "      <td>3.97</td>\n",
       "    </tr>\n",
       "    <tr>\n",
       "      <th>Sistema Interno - Indisponibilidade</th>\n",
       "      <td>25</td>\n",
       "      <td>3.01</td>\n",
       "    </tr>\n",
       "    <tr>\n",
       "      <th>Software - CS</th>\n",
       "      <td>23</td>\n",
       "      <td>2.77</td>\n",
       "    </tr>\n",
       "    <tr>\n",
       "      <th>Sistema Interno - Erro ao Salvar Informações</th>\n",
       "      <td>22</td>\n",
       "      <td>2.65</td>\n",
       "    </tr>\n",
       "    <tr>\n",
       "      <th>Sistema Interno - Não Carrega Pedidos</th>\n",
       "      <td>22</td>\n",
       "      <td>2.65</td>\n",
       "    </tr>\n",
       "    <tr>\n",
       "      <th>Sistema Interno - Divergência Entre Sistemas</th>\n",
       "      <td>14</td>\n",
       "      <td>1.68</td>\n",
       "    </tr>\n",
       "    <tr>\n",
       "      <th>Hardware - Monitor</th>\n",
       "      <td>14</td>\n",
       "      <td>1.68</td>\n",
       "    </tr>\n",
       "    <tr>\n",
       "      <th>Sistema Interno - Problemas no Envio de Email/Plan</th>\n",
       "      <td>14</td>\n",
       "      <td>1.68</td>\n",
       "    </tr>\n",
       "    <tr>\n",
       "      <th>Sistema interno - Falha de Webservice Gerar Cupom</th>\n",
       "      <td>14</td>\n",
       "      <td>1.68</td>\n",
       "    </tr>\n",
       "    <tr>\n",
       "      <th>Site - Erro Genérico</th>\n",
       "      <td>10</td>\n",
       "      <td>1.20</td>\n",
       "    </tr>\n",
       "    <tr>\n",
       "      <th>Sistema Interno - Lentidão</th>\n",
       "      <td>10</td>\n",
       "      <td>1.20</td>\n",
       "    </tr>\n",
       "    <tr>\n",
       "      <th>Sistema Interno - Erro ao Salvar Informações\\t</th>\n",
       "      <td>9</td>\n",
       "      <td>1.08</td>\n",
       "    </tr>\n",
       "    <tr>\n",
       "      <th>Hardware - Headset</th>\n",
       "      <td>9</td>\n",
       "      <td>1.08</td>\n",
       "    </tr>\n",
       "    <tr>\n",
       "      <th>Sistema Interno - Problemas no Recebimento de Email/Plan</th>\n",
       "      <td>7</td>\n",
       "      <td>0.84</td>\n",
       "    </tr>\n",
       "    <tr>\n",
       "      <th>Sistema interno - Falha de Webservice SPLIT</th>\n",
       "      <td>7</td>\n",
       "      <td>0.84</td>\n",
       "    </tr>\n",
       "    <tr>\n",
       "      <th>Hardware - Ponto de Rede</th>\n",
       "      <td>4</td>\n",
       "      <td>0.48</td>\n",
       "    </tr>\n",
       "    <tr>\n",
       "      <th>Sistema interno - Falha de Webservice Coleta Seller</th>\n",
       "      <td>4</td>\n",
       "      <td>0.48</td>\n",
       "    </tr>\n",
       "    <tr>\n",
       "      <th>Telefonia - Classificações</th>\n",
       "      <td>4</td>\n",
       "      <td>0.48</td>\n",
       "    </tr>\n",
       "    <tr>\n",
       "      <th>Software - Google Chrome</th>\n",
       "      <td>3</td>\n",
       "      <td>0.36</td>\n",
       "    </tr>\n",
       "    <tr>\n",
       "      <th>Hardware - Cabo HDMI/VGA</th>\n",
       "      <td>3</td>\n",
       "      <td>0.36</td>\n",
       "    </tr>\n",
       "    <tr>\n",
       "      <th>Hardware - Teclado</th>\n",
       "      <td>3</td>\n",
       "      <td>0.36</td>\n",
       "    </tr>\n",
       "    <tr>\n",
       "      <th>Site - Divergência de preço</th>\n",
       "      <td>2</td>\n",
       "      <td>0.24</td>\n",
       "    </tr>\n",
       "    <tr>\n",
       "      <th>Site - Erro no cálculo do frete</th>\n",
       "      <td>2</td>\n",
       "      <td>0.24</td>\n",
       "    </tr>\n",
       "    <tr>\n",
       "      <th>Sistema Interno - Erro para Registrar</th>\n",
       "      <td>2</td>\n",
       "      <td>0.24</td>\n",
       "    </tr>\n",
       "    <tr>\n",
       "      <th>Software - Google Drive</th>\n",
       "      <td>2</td>\n",
       "      <td>0.24</td>\n",
       "    </tr>\n",
       "    <tr>\n",
       "      <th>Telefonia - Ligação Ruim</th>\n",
       "      <td>2</td>\n",
       "      <td>0.24</td>\n",
       "    </tr>\n",
       "    <tr>\n",
       "      <th>Site - Carrinho Vazio</th>\n",
       "      <td>1</td>\n",
       "      <td>0.12</td>\n",
       "    </tr>\n",
       "    <tr>\n",
       "      <th>Software - ODBC Atualizar Relatórios</th>\n",
       "      <td>1</td>\n",
       "      <td>0.12</td>\n",
       "    </tr>\n",
       "    <tr>\n",
       "      <th>Software - Outlook</th>\n",
       "      <td>1</td>\n",
       "      <td>0.12</td>\n",
       "    </tr>\n",
       "    <tr>\n",
       "      <th>Software - Pacote Office</th>\n",
       "      <td>1</td>\n",
       "      <td>0.12</td>\n",
       "    </tr>\n",
       "    <tr>\n",
       "      <th>Software - Ultra VNC</th>\n",
       "      <td>1</td>\n",
       "      <td>0.12</td>\n",
       "    </tr>\n",
       "    <tr>\n",
       "      <th>Hardware - TV</th>\n",
       "      <td>1</td>\n",
       "      <td>0.12</td>\n",
       "    </tr>\n",
       "  </tbody>\n",
       "</table>\n",
       "</div>"
      ],
      "text/plain": [
       "                                                    qtd     %\n",
       "Tipo de chamado                                              \n",
       "Sistema Interno - Falha na Webservice de Cancel...  404 48.62\n",
       "Sistema interno - Falha de Webservice Aprovar C...  122 14.68\n",
       "Software - VPN                                       35  4.21\n",
       "Sistema Interno - Pedido não Integrado               33  3.97\n",
       "Sistema Interno - Indisponibilidade                  25  3.01\n",
       "Software - CS                                        23  2.77\n",
       "Sistema Interno - Erro ao Salvar Informações         22  2.65\n",
       "Sistema Interno - Não Carrega Pedidos                22  2.65\n",
       "Sistema Interno - Divergência Entre Sistemas         14  1.68\n",
       "Hardware - Monitor                                   14  1.68\n",
       "Sistema Interno - Problemas no Envio de Email/Plan   14  1.68\n",
       "Sistema interno - Falha de Webservice Gerar Cupom    14  1.68\n",
       "Site - Erro Genérico                                 10  1.20\n",
       "Sistema Interno - Lentidão                           10  1.20\n",
       "Sistema Interno - Erro ao Salvar Informações\\t        9  1.08\n",
       "Hardware - Headset                                    9  1.08\n",
       "Sistema Interno - Problemas no Recebimento de E...    7  0.84\n",
       "Sistema interno - Falha de Webservice SPLIT           7  0.84\n",
       "Hardware - Ponto de Rede                              4  0.48\n",
       "Sistema interno - Falha de Webservice Coleta Se...    4  0.48\n",
       "Telefonia - Classificações                            4  0.48\n",
       "Software - Google Chrome                              3  0.36\n",
       "Hardware - Cabo HDMI/VGA                              3  0.36\n",
       "Hardware - Teclado                                    3  0.36\n",
       "Site - Divergência de preço                           2  0.24\n",
       "Site - Erro no cálculo do frete                       2  0.24\n",
       "Sistema Interno - Erro para Registrar                 2  0.24\n",
       "Software - Google Drive                               2  0.24\n",
       "Telefonia - Ligação Ruim                              2  0.24\n",
       "Site - Carrinho Vazio                                 1  0.12\n",
       "Software - ODBC Atualizar Relatórios                  1  0.12\n",
       "Software - Outlook                                    1  0.12\n",
       "Software - Pacote Office                              1  0.12\n",
       "Software - Ultra VNC                                  1  0.12\n",
       "Hardware - TV                                         1  0.12"
      ]
     },
     "execution_count": 22,
     "metadata": {},
     "output_type": "execute_result"
    }
   ],
   "source": [
    "chamados_webservice2 = pd.pivot_table(chamados_2022, index=['Tipo de chamado'],values = 'qtd', aggfunc='sum', margins=False)\n",
    "chamados_webservice2['%'] = (chamados_webservice2['qtd']/chamados_webservice2['qtd'].sum())*100\n",
    "chamados_webservice2.sort_values(by='qtd', ascending = False)\n",
    "\n",
    "\n"
   ]
  },
  {
   "cell_type": "markdown",
   "id": "54138311",
   "metadata": {},
   "source": [
    "Traçando um gráfico para mostrar a quantidade de chamados abertos em 2022."
   ]
  },
  {
   "cell_type": "code",
   "execution_count": 23,
   "id": "6d792525",
   "metadata": {},
   "outputs": [
    {
     "data": {
      "text/plain": [
       "<AxesSubplot:ylabel='Tipo de chamado'>"
      ]
     },
     "execution_count": 23,
     "metadata": {},
     "output_type": "execute_result"
    },
    {
     "data": {
      "image/png": "[encoded data removed]",
      "text/plain": [
       "<Figure size 432x288 with 1 Axes>"
      ]
     },
     "metadata": {},
     "output_type": "display_data"
    }
   ],
   "source": [
    "sns.set()\n",
    "chamados_webservice2.sort_values(by='qtd', ascending = False).head(5).plot.barh()"
   ]
  },
  {
   "cell_type": "markdown",
   "id": "c7ef15c0",
   "metadata": {},
   "source": [
    "Depois disso foi levantando em reunião uma estratégia para melhorar cada \"Tipo de chamado\" mostrado na analise.\n",
    "Para falaha de webservice e webservice de aprovar coleta, criamos RPA, para VPN foi feito uma solução junto ao time de Infraestrutura.\n",
    "Para pedido não integrado, entramos em contato com o time de suporte TI que atuava nesses casos.\n",
    "Para Sistema Interno foram feitas melhorias por parte do time de infraestrutura que também reduziram a quantidade de chamados."
   ]
  },
  {
   "cell_type": "code",
   "execution_count": null,
   "id": "3df5d563",
   "metadata": {},
   "outputs": [],
   "source": []
  },
  {
   "cell_type": "code",
   "execution_count": null,
   "id": "d3a7e909",
   "metadata": {},
   "outputs": [],
   "source": []
  }
 ],
 "metadata": {
  "kernelspec": {
   "display_name": "Python 3.10.4 64-bit",
   "language": "python",
   "name": "python3"
  },
  "language_info": {
   "codemirror_mode": {
    "name": "ipython",
    "version": 3
   },
   "file_extension": ".py",
   "mimetype": "text/x-python",
   "name": "python",
   "nbconvert_exporter": "python",
   "pygments_lexer": "ipython3",
   "version": "3.10.4"
  },
  "vscode": {
   "interpreter": {
    "hash": "d044c6e0ce06759120adefce77398d00e1228e64d92f3f185fbd024a7701b8e0"
   }
  }
 },
 "nbformat": 4,
 "nbformat_minor": 5
}
